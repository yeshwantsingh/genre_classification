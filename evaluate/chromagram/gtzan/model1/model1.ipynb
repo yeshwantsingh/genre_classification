{
 "cells": [
  {
   "cell_type": "code",
   "execution_count": null,
   "metadata": {},
   "outputs": [],
   "source": [
    "import numpy as np\n",
    "from tensorflow import keras\n",
    "from tensorflow.keras import models, layers\n",
    "from tensorflow.keras.utils import plot_model\n",
    "from sklearn.model_selection import train_test_split\n",
    "import matplotlib.pyplot as plt\n",
    "import json\n",
    "import sys, os\n",
    "\n",
    "HOME_DIR = '../../../../evaluate/'\n",
    "\n",
    "sys.path.append(HOME_DIR)\n",
    "from utils import load_data\n"
   ]
  },
  {
   "cell_type": "code",
   "execution_count": null,
   "metadata": {},
   "outputs": [],
   "source": [
    "feature, dataset = 'chromagram', 'gtzan'\n",
    "\n",
    "def prepare_dataset(test_size):\n",
    "    # load data\n",
    "    data = load_data(feature, dataset)\n",
    "    X, y = data['chroma'], data['label']\n",
    "    X = X.reshape((X.shape[0], X.shape[1], X.shape[2], 1))\n",
    "    X = X.astype('float32')\n",
    "    \n",
    "    # create train/test split\n",
    "    X_train, X_test, y_train, y_test =  train_test_split(X,\n",
    "                                                         y,\n",
    "                                                         test_size=test_size,\n",
    "                                                        shuffle=True, random_state=42)\n",
    "\n",
    "    return X_train, X_test, y_train, y_test    "
   ]
  },
  {
   "cell_type": "code",
   "execution_count": null,
   "metadata": {},
   "outputs": [],
   "source": [
    "def plot_history(history):\n",
    "    with open('chromagram_gtzan_model1.json', 'w') as fp:\n",
    "        json.dump(history.history, fp, indent=4)\n",
    "\n",
    "    fig, ax = plt.subplots(2, figsize=(10,8))\n",
    "\n",
    "    # create accuracy subplot\n",
    "    ax[0].plot(history.history['acc'], label='train accuracy')\n",
    "    ax[0].plot(history.history['val_acc'], label='test accuracy')\n",
    "    ax[0].set_ylabel('Accuracy')\n",
    "    ax[0].legend(loc='lower right')\n",
    "    ax[0].set_title('Accuracy eval')\n",
    "\n",
    "    # create error subplot\n",
    "    ax[1].plot(history.history['loss'], label='train error')\n",
    "    ax[1].plot(history.history['val_loss'], label='test error')\n",
    "    ax[1].set_ylabel('Error')\n",
    "    ax[1].set_xlabel('Epochs')\n",
    "    ax[1].legend(loc='upper right')\n",
    "    ax[1].set_title('Error eval')\n",
    "\n",
    "    plt.show()"
   ]
  },
  {
   "cell_type": "code",
   "execution_count": null,
   "metadata": {},
   "outputs": [],
   "source": [
    "def build_model(shape, output):\n",
    "    model = models.Sequential()\n",
    "    # layer 1\n",
    "    model.add(layers.Conv2D(32, (3, 3), padding='same', activation='relu', input_shape=shape))\n",
    "    model.add(layers.MaxPooling2D((2, 2), padding='same'))\n",
    "    model.add(layers.Dropout(0.1))\n",
    "    # layer 2\n",
    "    model.add(layers.Conv2D(64, (3, 3), padding='same', activation='relu'))\n",
    "    model.add(layers.MaxPooling2D((2, 2), padding='same'))\n",
    "    model.add(layers.Dropout(0.1))\n",
    "    # layer 3\n",
    "    model.add(layers.Conv2D(128, (3, 3), padding='same', activation='relu'))\n",
    "    model.add(layers.MaxPooling2D((2, 2), padding='same'))\n",
    "    model.add(layers.Dropout(0.1))\n",
    "    # last layer\n",
    "    model.add(layers.Flatten())\n",
    "    model.add(layers.Dense(512, activation='relu'))\n",
    "    model.add(layers.Dropout(0.1))\n",
    "    model.add(layers.Dense(256, activation='relu'))\n",
    "    model.add(layers.Dense(output, activation='softmax'))\n",
    "    return model"
   ]
  },
  {
   "cell_type": "code",
   "execution_count": null,
   "metadata": {},
   "outputs": [],
   "source": [
    "def main():\n",
    "    X_train, X_test, y_train, y_test = prepare_dataset(0.20)\n",
    "    model = build_model((X_train.shape[1], X_train.shape[2], X_train.shape[3]), 13)\n",
    "    model.compile(optimizer='adadelta', loss='sparse_categorical_crossentropy', metrics=['acc'])\n",
    "    history = model.fit(X_train, y_train, validation_split=0.2,\n",
    "                epochs=100, batch_size=64, callbacks= [\n",
    "                keras.callbacks.TensorBoard(log_dir='logs',\n",
    "                                            histogram_freq=1,\n",
    "                                            embeddings_freq=1)])\n",
    "\n",
    "    plot_history(history)\n",
    "    plot_model(model, show_shapes=True, to_file='chromagram_gtzan_model1.png')\n",
    "    model.save('chromagram_gtzan_model1.h5')"
   ]
  },
  {
   "cell_type": "code",
   "execution_count": null,
   "metadata": {},
   "outputs": [],
   "source": [
    "main()"
   ]
  },
  {
   "cell_type": "code",
   "execution_count": null,
   "metadata": {},
   "outputs": [],
   "source": []
  }
 ],
 "metadata": {
  "kernelspec": {
   "display_name": "Python 3",
   "language": "python",
   "name": "python3"
  },
  "language_info": {
   "codemirror_mode": {
    "name": "ipython",
    "version": 3
   },
   "file_extension": ".py",
   "mimetype": "text/x-python",
   "name": "python",
   "nbconvert_exporter": "python",
   "pygments_lexer": "ipython3",
   "version": "3.8.5"
  }
 },
 "nbformat": 4,
 "nbformat_minor": 4
}
